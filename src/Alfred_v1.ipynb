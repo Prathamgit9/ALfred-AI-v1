{
  "nbformat": 4,
  "nbformat_minor": 0,
  "metadata": {
    "colab": {
      "provenance": [],
      "authorship_tag": "ABX9TyMBJagLnCMW3U4SWIxvyfUN",
      "include_colab_link": true
    },
    "kernelspec": {
      "name": "python3",
      "display_name": "Python 3"
    },
    "language_info": {
      "name": "python"
    }
  },
  "cells": [
    {
      "cell_type": "markdown",
      "metadata": {
        "id": "view-in-github",
        "colab_type": "text"
      },
      "source": [
        "<a href=\"https://colab.research.google.com/github/Prathamgit9/ALfred-AI-v1/blob/main/Alfred_v1.ipynb\" target=\"_parent\"><img src=\"https://colab.research.google.com/assets/colab-badge.svg\" alt=\"Open In Colab\"/></a>"
      ]
    },
    {
      "cell_type": "code",
      "source": [
        "pip install -q -U google-generativeai"
      ],
      "metadata": {
        "id": "0rL5siR8-q1g"
      },
      "execution_count": 23,
      "outputs": []
    },
    {
      "cell_type": "code",
      "source": [
        " pip install gTTS"
      ],
      "metadata": {
        "id": "moXP71vHEmc-"
      },
      "execution_count": null,
      "outputs": []
    },
    {
      "cell_type": "code",
      "source": [
        "import pathlib\n",
        "import textwrap\n",
        "from gtts import gTTS\n",
        "\n",
        "import google.generativeai as genai\n",
        "\n",
        "from IPython.display import display\n",
        "from IPython.display import Markdown\n",
        "from IPython.display import Audio, display\n",
        "\n",
        "def to_markdown(text):\n",
        "  text = text.replace('•', '  *')\n",
        "  return Markdown(textwrap.indent(text, '> ', predicate=lambda _: True))\n",
        "\n",
        "genai.configure(api_key=GOOGLE_API_KEY)"
      ],
      "metadata": {
        "id": "4hLGau3i963H"
      },
      "execution_count": 59,
      "outputs": []
    },
    {
      "cell_type": "code",
      "source": [
        "from google.colab import userdata\n",
        "GOOGLE_API_KEY = userdata.get('GOOGLE_API_KEY')\n",
        "model = genai.GenerativeModel('gemini-pro')"
      ],
      "metadata": {
        "id": "bl_FRFHg9uI7"
      },
      "execution_count": 20,
      "outputs": []
    },
    {
      "cell_type": "code",
      "execution_count": 74,
      "metadata": {
        "id": "koq68uie2cDs"
      },
      "outputs": [],
      "source": [
        "def ask_question(name):\n",
        "  ques = 'Hello Master ' + name + ', what help can I be to you Today ?'\n",
        "  speak('Hello Master ' + name + ', what help can I be to you Today ?')\n",
        "  ques = input(ques)\n",
        "  return ques"
      ]
    },
    {
      "cell_type": "code",
      "source": [
        "ask_question(\"Pratham\")"
      ],
      "metadata": {
        "id": "buf8g-yGGBzj"
      },
      "execution_count": null,
      "outputs": []
    },
    {
      "cell_type": "code",
      "source": [
        "def classify_questions(ques):\n",
        "  goahead_with_websearch = False\n",
        "  device_lst = ['alarm','reminder','call', 'message']\n",
        "  prsnl_lst = ['who are you','who created you']\n",
        "\n",
        "  device = False\n",
        "  for i in device_lst:\n",
        "    if i in ques:\n",
        "      device = True\n",
        "\n",
        "  if device:\n",
        "    print(\"This queston is related to the Device Master, We can't Handle that kind of Support at the Moment\")\n",
        "    speak(\"This queston is related to the Device Master, We can't Handle that kind of Support at the Moment\")\n",
        "\n",
        "  personal = False\n",
        "  for i in prsnl_lst:\n",
        "    if i in ques.lower():\n",
        "      personal = True\n",
        "\n",
        "  if personal:\n",
        "    print(\"I am Alfred Pennyworth Dear Sir, and I am created by Master Wayne\")\n",
        "    speak(\"I am Alfred Pennyworth Dear Sir, and I am created by Master Wayne\")\n",
        "\n",
        "  if device:\n",
        "    goahead_with_websearch = False\n",
        "\n",
        "  elif personal:\n",
        "    goahead_with_websearch = False\n",
        "\n",
        "  else:\n",
        "    goahead_with_websearch = True\n",
        "\n",
        "  return goahead_with_websearch\n",
        "\n"
      ],
      "metadata": {
        "id": "G4ZcY3r23TOc"
      },
      "execution_count": 75,
      "outputs": []
    },
    {
      "cell_type": "code",
      "source": [
        "classify_questions(\"Who are You?\")"
      ],
      "metadata": {
        "id": "OKokKfnq5yiB"
      },
      "execution_count": null,
      "outputs": []
    },
    {
      "cell_type": "code",
      "source": [
        "#Start searching with google gemini"
      ],
      "metadata": {
        "id": "sbKSy3WJ55l2"
      },
      "execution_count": 19,
      "outputs": []
    },
    {
      "cell_type": "code",
      "source": [
        "def ask_gemini(ques):\n",
        "  modified_prompt = 'Hey give me answer to this question '+ ques + ' in maximum of 40 words'\n",
        "  response = model.generate_content(modified_prompt)\n",
        "  to_markdown(response.text)\n",
        "  return response.text"
      ],
      "metadata": {
        "id": "TjUrdEkdBR-C"
      },
      "execution_count": 49,
      "outputs": []
    },
    {
      "cell_type": "code",
      "source": [
        "def speak(answer):\n",
        "  tts = gTTS(answer)\n",
        "  tts.save('audio.mp3')\n",
        "  display(Audio('audio.mp3', autoplay=True))"
      ],
      "metadata": {
        "id": "unlDw_GSJHnR"
      },
      "execution_count": 61,
      "outputs": []
    },
    {
      "cell_type": "code",
      "source": [
        "have_more_ques = 'y'\n",
        "name = ''\n",
        "\n",
        "while have_more_ques == 'y':\n",
        "  if name == '':\n",
        "    speak(\"What is your name?\")\n",
        "    name = input(\"What is your name? - \")\n",
        "\n",
        "  q = ask_question(name)\n",
        "\n",
        "  go_ahead = classify_questions(q)\n",
        "  answer = ''\n",
        "\n",
        "  if go_ahead == True:\n",
        "    answer = ask_gemini(q)\n",
        "    speak(answer)\n",
        "    print(answer)\n",
        "\n",
        "  have_more_ques = input(\"Anything else Master \" + name + \" ?\")\n",
        ""
      ],
      "metadata": {
        "id": "tN8sk9bTCdWW"
      },
      "execution_count": null,
      "outputs": []
    },
    {
      "cell_type": "code",
      "source": [],
      "metadata": {
        "id": "VdZiFOTiKf_L"
      },
      "execution_count": null,
      "outputs": []
    }
  ]
}
